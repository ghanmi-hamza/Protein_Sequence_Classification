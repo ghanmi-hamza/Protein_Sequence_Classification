{
 "cells": [
  {
   "cell_type": "markdown",
   "metadata": {
    "papermill": {
     "duration": 0.031092,
     "end_time": "2021-01-01T15:44:26.071414",
     "exception": false,
     "start_time": "2021-01-01T15:44:26.040322",
     "status": "completed"
    },
    "tags": []
   },
   "source": [
    "# Problem Description"
   ]
  },
  {
   "cell_type": "markdown",
   "metadata": {
    "papermill": {
     "duration": 0.032952,
     "end_time": "2021-01-01T15:44:26.135621",
     "exception": false,
     "start_time": "2021-01-01T15:44:26.102669",
     "status": "completed"
    },
    "tags": []
   },
   "source": [
    "1-Data"
   ]
  },
  {
   "cell_type": "markdown",
   "metadata": {
    "papermill": {
     "duration": 0.028024,
     "end_time": "2021-01-01T15:44:26.194831",
     "exception": false,
     "start_time": "2021-01-01T15:44:26.166807",
     "status": "completed"
    },
    "tags": []
   },
   "source": [
    "The data consists of labelled amino acid sequences. Each sequence has a unique ID, the amino acid sequence, the organism it came from and the label. You must predict the label for the test set. Labels consist of one of 20 classes. There are ten organisms, 8 in the training set and 2 in the test set. Sequences above a set length have been excluded from this dataset"
   ]
  },
  {
   "cell_type": "markdown",
   "metadata": {
    "papermill": {
     "duration": 0.027834,
     "end_time": "2021-01-01T15:44:26.250786",
     "exception": false,
     "start_time": "2021-01-01T15:44:26.222952",
     "status": "completed"
    },
    "tags": []
   },
   "source": [
    "2-Objective"
   ]
  },
  {
   "cell_type": "markdown",
   "metadata": {
    "papermill": {
     "duration": 0.026886,
     "end_time": "2021-01-01T15:44:26.305167",
     "exception": false,
     "start_time": "2021-01-01T15:44:26.278281",
     "status": "completed"
    },
    "tags": []
   },
   "source": [
    "Create a model that classify the amino acid sequence"
   ]
  },
  {
   "cell_type": "code",
   "execution_count": 1,
   "metadata": {
    "_cell_guid": "b1076dfc-b9ad-4769-8c92-a6c4dae69d19",
    "_uuid": "8f2839f25d086af736a60e9eeb907d3b93b6e0e5",
    "execution": {
     "iopub.execute_input": "2021-01-01T15:44:26.367198Z",
     "iopub.status.busy": "2021-01-01T15:44:26.366513Z",
     "iopub.status.idle": "2021-01-01T15:44:26.380146Z",
     "shell.execute_reply": "2021-01-01T15:44:26.379468Z"
    },
    "papermill": {
     "duration": 0.047827,
     "end_time": "2021-01-01T15:44:26.380265",
     "exception": false,
     "start_time": "2021-01-01T15:44:26.332438",
     "status": "completed"
    },
    "tags": []
   },
   "outputs": [
    {
     "name": "stdout",
     "output_type": "stream",
     "text": [
      "/kaggle/input/instadeep-enzyme-classification-challenge/Train (4).csv\n",
      "/kaggle/input/instadeep-enzyme-classification-challenge/Test (3).csv\n",
      "/kaggle/input/instadeep-enzyme-classification-challenge/SampleSubmission (3).csv\n"
     ]
    }
   ],
   "source": [
    "# This Python 3 environment comes with many helpful analytics libraries installed\n",
    "# It is defined by the kaggle/python Docker image: https://github.com/kaggle/docker-python\n",
    "# For example, here's several helpful packages to load\n",
    "\n",
    "import numpy as np # linear algebra\n",
    "import pandas as pd # data processing, CSV file I/O (e.g. pd.read_csv)\n",
    "import time, logging, gc ,os\n",
    "\n",
    "# Input data files are available in the read-only \"../input/\" directory\n",
    "# For example, running this (by clicking run or pressing Shift+Enter) will list all files under the input directory\n",
    "\n",
    "for dirname, _, filenames in os.walk('/kaggle/input'):\n",
    "    for filename in filenames:\n",
    "        print(os.path.join(dirname, filename))\n",
    "\n",
    "# You can write up to 20GB to the current directory (/kaggle/working/) that gets preserved as output when you create a version using \"Save & Run All\" \n",
    "# You can also write temporary files to /kaggle/temp/, but they won't be saved outside of the current session"
   ]
  },
  {
   "cell_type": "code",
   "execution_count": 2,
   "metadata": {
    "execution": {
     "iopub.execute_input": "2021-01-01T15:44:26.440112Z",
     "iopub.status.busy": "2021-01-01T15:44:26.439433Z",
     "iopub.status.idle": "2021-01-01T15:44:34.328773Z",
     "shell.execute_reply": "2021-01-01T15:44:34.329456Z"
    },
    "papermill": {
     "duration": 7.920697,
     "end_time": "2021-01-01T15:44:34.329607",
     "exception": false,
     "start_time": "2021-01-01T15:44:26.408910",
     "status": "completed"
    },
    "tags": []
   },
   "outputs": [],
   "source": [
    "import tensorflow as tf\n",
    "import matplotlib.pyplot as plt\n",
    "import seaborn as sns\n",
    "from collections import Counter\n",
    "from prettytable import PrettyTable\n",
    "from IPython.display import Image\n",
    "from sklearn.preprocessing import LabelEncoder\n",
    "from keras.regularizers import l2\n",
    "from keras.constraints import max_norm\n",
    "from keras.utils import to_categorical\n",
    "from keras.preprocessing.text import Tokenizer\n",
    "from keras.preprocessing.sequence import pad_sequences\n",
    "from keras.layers import Input, Dense, Dropout, Flatten, Activation\n",
    "from keras.layers import Conv1D, Add, MaxPooling1D, BatchNormalization\n",
    "from keras.layers import Embedding, Bidirectional, GlobalMaxPooling1D,LSTM\n",
    "from tensorflow.keras.models import *\n",
    "from tensorflow.keras.layers import *\n",
    "from tensorflow import keras\n",
    "from keras.models import Sequential\n",
    "from keras.layers import Activation, Dense,LSTM\n",
    "from tensorflow.keras.callbacks import ModelCheckpoint, EarlyStopping\n",
    "from sklearn.model_selection import train_test_split"
   ]
  },
  {
   "cell_type": "code",
   "execution_count": 3,
   "metadata": {
    "_cell_guid": "79c7e3d0-c299-4dcb-8224-4455121ee9b0",
    "_uuid": "d629ff2d2480ee46fbb7e2d37f6b5fab8052498a",
    "execution": {
     "iopub.execute_input": "2021-01-01T15:44:34.405780Z",
     "iopub.status.busy": "2021-01-01T15:44:34.404733Z",
     "iopub.status.idle": "2021-01-01T15:44:46.636070Z",
     "shell.execute_reply": "2021-01-01T15:44:46.635237Z"
    },
    "papermill": {
     "duration": 12.275769,
     "end_time": "2021-01-01T15:44:46.636202",
     "exception": false,
     "start_time": "2021-01-01T15:44:34.360433",
     "status": "completed"
    },
    "tags": []
   },
   "outputs": [],
   "source": [
    "DIR = '../input/instadeep-enzyme-classification-challenge/'\n",
    "train=pd.read_csv(DIR+'Train (4).csv')\n",
    "test=pd.read_csv(DIR+'Test (3).csv')\n",
    "sub=pd.read_csv(DIR+'SampleSubmission (3).csv')"
   ]
  },
  {
   "cell_type": "markdown",
   "metadata": {
    "papermill": {
     "duration": 0.028679,
     "end_time": "2021-01-01T15:44:46.695715",
     "exception": false,
     "start_time": "2021-01-01T15:44:46.667036",
     "status": "completed"
    },
    "tags": []
   },
   "source": [
    "# EDA"
   ]
  },
  {
   "cell_type": "code",
   "execution_count": 4,
   "metadata": {
    "execution": {
     "iopub.execute_input": "2021-01-01T15:44:46.788507Z",
     "iopub.status.busy": "2021-01-01T15:44:46.787316Z",
     "iopub.status.idle": "2021-01-01T15:44:46.796430Z",
     "shell.execute_reply": "2021-01-01T15:44:46.797557Z"
    },
    "papermill": {
     "duration": 0.051359,
     "end_time": "2021-01-01T15:44:46.797860",
     "exception": false,
     "start_time": "2021-01-01T15:44:46.746501",
     "status": "completed"
    },
    "tags": []
   },
   "outputs": [
    {
     "name": "stdout",
     "output_type": "stream",
     "text": [
      "Train size:  858777\n",
      "Test size:  253146\n"
     ]
    }
   ],
   "source": [
    "print('Train size: ', len(train))\n",
    "print('Test size: ', len(test))"
   ]
  },
  {
   "cell_type": "code",
   "execution_count": 5,
   "metadata": {
    "execution": {
     "iopub.execute_input": "2021-01-01T15:44:47.017528Z",
     "iopub.status.busy": "2021-01-01T15:44:46.872333Z",
     "iopub.status.idle": "2021-01-01T15:44:47.028464Z",
     "shell.execute_reply": "2021-01-01T15:44:47.029020Z"
    },
    "papermill": {
     "duration": 0.188816,
     "end_time": "2021-01-01T15:44:47.029179",
     "exception": false,
     "start_time": "2021-01-01T15:44:46.840363",
     "status": "completed"
    },
    "tags": []
   },
   "outputs": [
    {
     "data": {
      "text/html": [
       "<div>\n",
       "<style scoped>\n",
       "    .dataframe tbody tr th:only-of-type {\n",
       "        vertical-align: middle;\n",
       "    }\n",
       "\n",
       "    .dataframe tbody tr th {\n",
       "        vertical-align: top;\n",
       "    }\n",
       "\n",
       "    .dataframe thead th {\n",
       "        text-align: right;\n",
       "    }\n",
       "</style>\n",
       "<table border=\"1\" class=\"dataframe\">\n",
       "  <thead>\n",
       "    <tr style=\"text-align: right;\">\n",
       "      <th></th>\n",
       "      <th>SEQUENCE_ID</th>\n",
       "      <th>SEQUENCE</th>\n",
       "      <th>CREATURE</th>\n",
       "      <th>LABEL</th>\n",
       "    </tr>\n",
       "  </thead>\n",
       "  <tbody>\n",
       "    <tr>\n",
       "      <th>0</th>\n",
       "      <td>00011UBJ</td>\n",
       "      <td>MPWQELSITVPHEYVEPISYLFGRYGKGVSTELAGNGQVLLRTYLT...</td>\n",
       "      <td>creature9</td>\n",
       "      <td>class11</td>\n",
       "    </tr>\n",
       "    <tr>\n",
       "      <th>1</th>\n",
       "      <td>0001HZ3P</td>\n",
       "      <td>MGKLVIGSRGSELALWQANHIKERLKKECLIESEIQIVKTKGDKIL...</td>\n",
       "      <td>creature3</td>\n",
       "      <td>class13</td>\n",
       "    </tr>\n",
       "    <tr>\n",
       "      <th>2</th>\n",
       "      <td>0003NJDO</td>\n",
       "      <td>MFIVAVLMLAFLIFVHELGHFTIARICGVKVEVFSIGFGKKLCFFK...</td>\n",
       "      <td>creature3</td>\n",
       "      <td>class16</td>\n",
       "    </tr>\n",
       "  </tbody>\n",
       "</table>\n",
       "</div>"
      ],
      "text/plain": [
       "  SEQUENCE_ID                                           SEQUENCE   CREATURE  \\\n",
       "0    00011UBJ  MPWQELSITVPHEYVEPISYLFGRYGKGVSTELAGNGQVLLRTYLT...  creature9   \n",
       "1    0001HZ3P  MGKLVIGSRGSELALWQANHIKERLKKECLIESEIQIVKTKGDKIL...  creature3   \n",
       "2    0003NJDO  MFIVAVLMLAFLIFVHELGHFTIARICGVKVEVFSIGFGKKLCFFK...  creature3   \n",
       "\n",
       "     LABEL  \n",
       "0  class11  \n",
       "1  class13  \n",
       "2  class16  "
      ]
     },
     "execution_count": 5,
     "metadata": {},
     "output_type": "execute_result"
    }
   ],
   "source": [
    "train.head(3)"
   ]
  },
  {
   "cell_type": "code",
   "execution_count": 6,
   "metadata": {
    "execution": {
     "iopub.execute_input": "2021-01-01T15:44:47.091388Z",
     "iopub.status.busy": "2021-01-01T15:44:47.090369Z",
     "iopub.status.idle": "2021-01-01T15:44:52.023173Z",
     "shell.execute_reply": "2021-01-01T15:44:52.023659Z"
    },
    "papermill": {
     "duration": 4.965598,
     "end_time": "2021-01-01T15:44:52.023842",
     "exception": false,
     "start_time": "2021-01-01T15:44:47.058244",
     "status": "completed"
    },
    "tags": []
   },
   "outputs": [
    {
     "data": {
      "text/html": [
       "<div>\n",
       "<style scoped>\n",
       "    .dataframe tbody tr th:only-of-type {\n",
       "        vertical-align: middle;\n",
       "    }\n",
       "\n",
       "    .dataframe tbody tr th {\n",
       "        vertical-align: top;\n",
       "    }\n",
       "\n",
       "    .dataframe thead th {\n",
       "        text-align: right;\n",
       "    }\n",
       "</style>\n",
       "<table border=\"1\" class=\"dataframe\">\n",
       "  <thead>\n",
       "    <tr style=\"text-align: right;\">\n",
       "      <th></th>\n",
       "      <th>SEQUENCE_ID</th>\n",
       "      <th>SEQUENCE</th>\n",
       "      <th>CREATURE</th>\n",
       "      <th>LABEL</th>\n",
       "    </tr>\n",
       "  </thead>\n",
       "  <tbody>\n",
       "    <tr>\n",
       "      <th>count</th>\n",
       "      <td>858777</td>\n",
       "      <td>858777</td>\n",
       "      <td>858777</td>\n",
       "      <td>858777</td>\n",
       "    </tr>\n",
       "    <tr>\n",
       "      <th>unique</th>\n",
       "      <td>858777</td>\n",
       "      <td>816700</td>\n",
       "      <td>8</td>\n",
       "      <td>20</td>\n",
       "    </tr>\n",
       "    <tr>\n",
       "      <th>top</th>\n",
       "      <td>CM9OG0IO</td>\n",
       "      <td>FFRENLAFPEGEAREFPSEQTRAIGPTRGEPQVWGRSSNSLSEAGG...</td>\n",
       "      <td>creature8</td>\n",
       "      <td>class19</td>\n",
       "    </tr>\n",
       "    <tr>\n",
       "      <th>freq</th>\n",
       "      <td>1</td>\n",
       "      <td>201</td>\n",
       "      <td>140738</td>\n",
       "      <td>256273</td>\n",
       "    </tr>\n",
       "  </tbody>\n",
       "</table>\n",
       "</div>"
      ],
      "text/plain": [
       "       SEQUENCE_ID                                           SEQUENCE  \\\n",
       "count       858777                                             858777   \n",
       "unique      858777                                             816700   \n",
       "top       CM9OG0IO  FFRENLAFPEGEAREFPSEQTRAIGPTRGEPQVWGRSSNSLSEAGG...   \n",
       "freq             1                                                201   \n",
       "\n",
       "         CREATURE    LABEL  \n",
       "count      858777   858777  \n",
       "unique          8       20  \n",
       "top     creature8  class19  \n",
       "freq       140738   256273  "
      ]
     },
     "execution_count": 6,
     "metadata": {},
     "output_type": "execute_result"
    }
   ],
   "source": [
    "train.describe()"
   ]
  },
  {
   "cell_type": "code",
   "execution_count": 7,
   "metadata": {
    "execution": {
     "iopub.execute_input": "2021-01-01T15:44:52.089072Z",
     "iopub.status.busy": "2021-01-01T15:44:52.088104Z",
     "iopub.status.idle": "2021-01-01T15:44:52.495436Z",
     "shell.execute_reply": "2021-01-01T15:44:52.495945Z"
    },
    "papermill": {
     "duration": 0.441434,
     "end_time": "2021-01-01T15:44:52.496097",
     "exception": false,
     "start_time": "2021-01-01T15:44:52.054663",
     "status": "completed"
    },
    "tags": []
   },
   "outputs": [
    {
     "data": {
      "text/plain": [
       "SEQUENCE_ID    0\n",
       "SEQUENCE       0\n",
       "CREATURE       0\n",
       "LABEL          0\n",
       "dtype: int64"
      ]
     },
     "execution_count": 7,
     "metadata": {},
     "output_type": "execute_result"
    }
   ],
   "source": [
    "#Check if ther'is null values\n",
    "train.isnull().sum()"
   ]
  },
  {
   "cell_type": "code",
   "execution_count": 8,
   "metadata": {
    "execution": {
     "iopub.execute_input": "2021-01-01T15:44:52.626177Z",
     "iopub.status.busy": "2021-01-01T15:44:52.624858Z",
     "iopub.status.idle": "2021-01-01T15:44:54.702726Z",
     "shell.execute_reply": "2021-01-01T15:44:54.702159Z"
    },
    "papermill": {
     "duration": 2.175818,
     "end_time": "2021-01-01T15:44:54.702875",
     "exception": false,
     "start_time": "2021-01-01T15:44:52.527057",
     "status": "completed"
    },
    "tags": []
   },
   "outputs": [],
   "source": [
    "#Remove redundant samples\n",
    "train=train.drop_duplicates(subset=['SEQUENCE', 'LABEL'], keep='first')"
   ]
  },
  {
   "cell_type": "code",
   "execution_count": 9,
   "metadata": {
    "execution": {
     "iopub.execute_input": "2021-01-01T15:44:54.772687Z",
     "iopub.status.busy": "2021-01-01T15:44:54.771545Z",
     "iopub.status.idle": "2021-01-01T15:44:54.825888Z",
     "shell.execute_reply": "2021-01-01T15:44:54.826366Z"
    },
    "papermill": {
     "duration": 0.092426,
     "end_time": "2021-01-01T15:44:54.826530",
     "exception": false,
     "start_time": "2021-01-01T15:44:54.734104",
     "status": "completed"
    },
    "tags": []
   },
   "outputs": [
    {
     "data": {
      "text/plain": [
       "'MPWQELSITVPHEYVEPISYLFGRYGKGVSTELAGNGQVLLRTYLTTGSRQRMARIDVGVRLVGAIESIGDLIVRELPDDEDWMNSWKSHFKILRVGKRLVIKPTWLELDETIKLDDIVIELDPGIAFGTGYHPTTDTCMQAMEQHITPGMAVLDLGTGSGILAITAMKLGAGKVTALDIDSQAVSAARRNFKRTGISKQIRLGQGSVPHPTAPAAEFDLAVANISARGVVDRCPFILTALKPGALFIASGLLATQKPEVANAVEPLGFSLVSEWPQEEWVTLLYRAPDSPIVASE'"
      ]
     },
     "execution_count": 9,
     "metadata": {},
     "output_type": "execute_result"
    }
   ],
   "source": [
    "#example of protein sequence\n",
    "train.SEQUENCE[0]"
   ]
  },
  {
   "cell_type": "code",
   "execution_count": 10,
   "metadata": {
    "execution": {
     "iopub.execute_input": "2021-01-01T15:44:54.894450Z",
     "iopub.status.busy": "2021-01-01T15:44:54.893713Z",
     "iopub.status.idle": "2021-01-01T15:44:55.630077Z",
     "shell.execute_reply": "2021-01-01T15:44:55.629425Z"
    },
    "papermill": {
     "duration": 0.772683,
     "end_time": "2021-01-01T15:44:55.630219",
     "exception": false,
     "start_time": "2021-01-01T15:44:54.857536",
     "status": "completed"
    },
    "tags": []
   },
   "outputs": [
    {
     "data": {
      "text/plain": [
       "count    816950.000000\n",
       "mean        402.879796\n",
       "std         208.101618\n",
       "min          16.000000\n",
       "25%         262.000000\n",
       "50%         379.000000\n",
       "75%         476.000000\n",
       "max        1234.000000\n",
       "Name: SEQUENCE, dtype: float64"
      ]
     },
     "execution_count": 10,
     "metadata": {},
     "output_type": "execute_result"
    }
   ],
   "source": [
    "#length of Sequence\n",
    "train.SEQUENCE.apply(lambda x : len(x)).describe()"
   ]
  },
  {
   "cell_type": "code",
   "execution_count": 11,
   "metadata": {
    "execution": {
     "iopub.execute_input": "2021-01-01T15:44:55.707604Z",
     "iopub.status.busy": "2021-01-01T15:44:55.706928Z",
     "iopub.status.idle": "2021-01-01T15:44:56.614667Z",
     "shell.execute_reply": "2021-01-01T15:44:56.613920Z"
    },
    "papermill": {
     "duration": 0.948873,
     "end_time": "2021-01-01T15:44:56.614804",
     "exception": false,
     "start_time": "2021-01-01T15:44:55.665931",
     "status": "completed"
    },
    "tags": []
   },
   "outputs": [],
   "source": [
    "# Length of sequence in train & test data.\n",
    "train['seq_count']= train['SEQUENCE'].apply(lambda x: len(x))\n",
    "test['seq_count']= test['SEQUENCE'].apply(lambda x: len(x))"
   ]
  },
  {
   "cell_type": "code",
   "execution_count": 12,
   "metadata": {
    "execution": {
     "iopub.execute_input": "2021-01-01T15:44:56.693385Z",
     "iopub.status.busy": "2021-01-01T15:44:56.692601Z",
     "iopub.status.idle": "2021-01-01T15:44:56.697379Z",
     "shell.execute_reply": "2021-01-01T15:44:56.696656Z"
    },
    "papermill": {
     "duration": 0.047954,
     "end_time": "2021-01-01T15:44:56.697514",
     "exception": false,
     "start_time": "2021-01-01T15:44:56.649560",
     "status": "completed"
    },
    "tags": []
   },
   "outputs": [],
   "source": [
    "def plot_seq_count(df, data_name):\n",
    "  sns.distplot(df['seq_count'].values)\n",
    "  plt.title(f'Sequence char count: {data_name}')\n",
    "  plt.grid(True)"
   ]
  },
  {
   "cell_type": "code",
   "execution_count": 13,
   "metadata": {
    "execution": {
     "iopub.execute_input": "2021-01-01T15:44:56.776114Z",
     "iopub.status.busy": "2021-01-01T15:44:56.775423Z",
     "iopub.status.idle": "2021-01-01T15:44:57.754278Z",
     "shell.execute_reply": "2021-01-01T15:44:57.754829Z"
    },
    "papermill": {
     "duration": 1.020897,
     "end_time": "2021-01-01T15:44:57.754976",
     "exception": false,
     "start_time": "2021-01-01T15:44:56.734079",
     "status": "completed"
    },
    "tags": []
   },
   "outputs": [
    {
     "data": {
      "image/png": "[encoded data removed]",
      "text/plain": [
       "<Figure size 432x288 with 2 Axes>"
      ]
     },
     "metadata": {
      "needs_background": "light"
     },
     "output_type": "display_data"
    }
   ],
   "source": [
    "plt.subplot(1, 2, 1)\n",
    "plot_seq_count(train, 'Train')\n",
    "\n",
    "plt.subplot(1, 2, 2)\n",
    "plot_seq_count(test, 'Test')\n",
    "\n",
    "plt.subplots_adjust(right=3.0)\n",
    "plt.show()"
   ]
  },
  {
   "cell_type": "code",
   "execution_count": 14,
   "metadata": {
    "execution": {
     "iopub.execute_input": "2021-01-01T15:44:57.833877Z",
     "iopub.status.busy": "2021-01-01T15:44:57.833168Z",
     "iopub.status.idle": "2021-01-01T15:44:57.836548Z",
     "shell.execute_reply": "2021-01-01T15:44:57.835990Z"
    },
    "papermill": {
     "duration": 0.047403,
     "end_time": "2021-01-01T15:44:57.836663",
     "exception": false,
     "start_time": "2021-01-01T15:44:57.789260",
     "status": "completed"
    },
    "tags": []
   },
   "outputs": [],
   "source": [
    "def get_code_freq(df, data_name):\n",
    "  \n",
    "  df = df.apply(lambda x: \" \".join(x))\n",
    "  \n",
    "  codes = []\n",
    "  for i in df: # concatination of all codes\n",
    "    codes.extend(i)\n",
    "\n",
    "  codes_dict= Counter(codes)\n",
    "  codes_dict.pop(' ') # removing white space\n",
    "  print(f'Codes: {data_name}')\n",
    "  print(f'Total unique codes: {len(codes_dict.keys())}')\n",
    "  df = pd.DataFrame({'Code': list(codes_dict.keys()), 'Freq': list(codes_dict.values())})\n",
    "  return df.sort_values('Freq', ascending=False).reset_index()[['Code', 'Freq']]\n",
    "\n",
    "def plot_code_freq(df, data_name):\n",
    "  plt.title(f'Code frequency: {data_name}')\n",
    "  sns.barplot(x='Code', y='Freq', data=df)"
   ]
  },
  {
   "cell_type": "code",
   "execution_count": 15,
   "metadata": {
    "execution": {
     "iopub.execute_input": "2021-01-01T15:44:57.912540Z",
     "iopub.status.busy": "2021-01-01T15:44:57.911488Z",
     "iopub.status.idle": "2021-01-01T15:46:01.446274Z",
     "shell.execute_reply": "2021-01-01T15:46:01.445450Z"
    },
    "papermill": {
     "duration": 63.575652,
     "end_time": "2021-01-01T15:46:01.446434",
     "exception": false,
     "start_time": "2021-01-01T15:44:57.870782",
     "status": "completed"
    },
    "tags": []
   },
   "outputs": [
    {
     "name": "stdout",
     "output_type": "stream",
     "text": [
      "Codes: Train\n",
      "Total unique codes: 24\n"
     ]
    },
    {
     "data": {
      "text/html": [
       "<div>\n",
       "<style scoped>\n",
       "    .dataframe tbody tr th:only-of-type {\n",
       "        vertical-align: middle;\n",
       "    }\n",
       "\n",
       "    .dataframe tbody tr th {\n",
       "        vertical-align: top;\n",
       "    }\n",
       "\n",
       "    .dataframe thead th {\n",
       "        text-align: right;\n",
       "    }\n",
       "</style>\n",
       "<table border=\"1\" class=\"dataframe\">\n",
       "  <thead>\n",
       "    <tr style=\"text-align: right;\">\n",
       "      <th></th>\n",
       "      <th>Code</th>\n",
       "      <th>Freq</th>\n",
       "    </tr>\n",
       "  </thead>\n",
       "  <tbody>\n",
       "    <tr>\n",
       "      <th>0</th>\n",
       "      <td>L</td>\n",
       "      <td>33132419</td>\n",
       "    </tr>\n",
       "    <tr>\n",
       "      <th>1</th>\n",
       "      <td>A</td>\n",
       "      <td>29148848</td>\n",
       "    </tr>\n",
       "    <tr>\n",
       "      <th>2</th>\n",
       "      <td>G</td>\n",
       "      <td>24797034</td>\n",
       "    </tr>\n",
       "    <tr>\n",
       "      <th>3</th>\n",
       "      <td>V</td>\n",
       "      <td>22652087</td>\n",
       "    </tr>\n",
       "    <tr>\n",
       "      <th>4</th>\n",
       "      <td>E</td>\n",
       "      <td>22130013</td>\n",
       "    </tr>\n",
       "    <tr>\n",
       "      <th>5</th>\n",
       "      <td>I</td>\n",
       "      <td>21153868</td>\n",
       "    </tr>\n",
       "    <tr>\n",
       "      <th>6</th>\n",
       "      <td>K</td>\n",
       "      <td>19490664</td>\n",
       "    </tr>\n",
       "    <tr>\n",
       "      <th>7</th>\n",
       "      <td>D</td>\n",
       "      <td>18311065</td>\n",
       "    </tr>\n",
       "    <tr>\n",
       "      <th>8</th>\n",
       "      <td>R</td>\n",
       "      <td>18307046</td>\n",
       "    </tr>\n",
       "    <tr>\n",
       "      <th>9</th>\n",
       "      <td>S</td>\n",
       "      <td>17326939</td>\n",
       "    </tr>\n",
       "    <tr>\n",
       "      <th>10</th>\n",
       "      <td>T</td>\n",
       "      <td>17055641</td>\n",
       "    </tr>\n",
       "    <tr>\n",
       "      <th>11</th>\n",
       "      <td>P</td>\n",
       "      <td>16634241</td>\n",
       "    </tr>\n",
       "    <tr>\n",
       "      <th>12</th>\n",
       "      <td>Q</td>\n",
       "      <td>12967915</td>\n",
       "    </tr>\n",
       "    <tr>\n",
       "      <th>13</th>\n",
       "      <td>F</td>\n",
       "      <td>12032423</td>\n",
       "    </tr>\n",
       "    <tr>\n",
       "      <th>14</th>\n",
       "      <td>N</td>\n",
       "      <td>11808365</td>\n",
       "    </tr>\n",
       "    <tr>\n",
       "      <th>15</th>\n",
       "      <td>Y</td>\n",
       "      <td>9116894</td>\n",
       "    </tr>\n",
       "    <tr>\n",
       "      <th>16</th>\n",
       "      <td>H</td>\n",
       "      <td>7238001</td>\n",
       "    </tr>\n",
       "    <tr>\n",
       "      <th>17</th>\n",
       "      <td>M</td>\n",
       "      <td>7113209</td>\n",
       "    </tr>\n",
       "    <tr>\n",
       "      <th>18</th>\n",
       "      <td>W</td>\n",
       "      <td>4647670</td>\n",
       "    </tr>\n",
       "    <tr>\n",
       "      <th>19</th>\n",
       "      <td>C</td>\n",
       "      <td>3461572</td>\n",
       "    </tr>\n",
       "    <tr>\n",
       "      <th>20</th>\n",
       "      <td>X</td>\n",
       "      <td>601014</td>\n",
       "    </tr>\n",
       "    <tr>\n",
       "      <th>21</th>\n",
       "      <td>B</td>\n",
       "      <td>3780</td>\n",
       "    </tr>\n",
       "    <tr>\n",
       "      <th>22</th>\n",
       "      <td>Z</td>\n",
       "      <td>1760</td>\n",
       "    </tr>\n",
       "    <tr>\n",
       "      <th>23</th>\n",
       "      <td>U</td>\n",
       "      <td>181</td>\n",
       "    </tr>\n",
       "  </tbody>\n",
       "</table>\n",
       "</div>"
      ],
      "text/plain": [
       "   Code      Freq\n",
       "0     L  33132419\n",
       "1     A  29148848\n",
       "2     G  24797034\n",
       "3     V  22652087\n",
       "4     E  22130013\n",
       "5     I  21153868\n",
       "6     K  19490664\n",
       "7     D  18311065\n",
       "8     R  18307046\n",
       "9     S  17326939\n",
       "10    T  17055641\n",
       "11    P  16634241\n",
       "12    Q  12967915\n",
       "13    F  12032423\n",
       "14    N  11808365\n",
       "15    Y   9116894\n",
       "16    H   7238001\n",
       "17    M   7113209\n",
       "18    W   4647670\n",
       "19    C   3461572\n",
       "20    X    601014\n",
       "21    B      3780\n",
       "22    Z      1760\n",
       "23    U       181"
      ]
     },
     "execution_count": 15,
     "metadata": {},
     "output_type": "execute_result"
    }
   ],
   "source": [
    "train_code_freq = get_code_freq(train['SEQUENCE'], 'Train')\n",
    "train_code_freq"
   ]
  },
  {
   "cell_type": "code",
   "execution_count": 16,
   "metadata": {
    "execution": {
     "iopub.execute_input": "2021-01-01T15:46:01.528417Z",
     "iopub.status.busy": "2021-01-01T15:46:01.523413Z",
     "iopub.status.idle": "2021-01-01T15:46:19.484194Z",
     "shell.execute_reply": "2021-01-01T15:46:19.483629Z"
    },
    "papermill": {
     "duration": 18.001219,
     "end_time": "2021-01-01T15:46:19.484337",
     "exception": false,
     "start_time": "2021-01-01T15:46:01.483118",
     "status": "completed"
    },
    "tags": []
   },
   "outputs": [
    {
     "name": "stdout",
     "output_type": "stream",
     "text": [
      "Codes: Test\n",
      "Total unique codes: 22\n"
     ]
    },
    {
     "data": {
      "text/html": [
       "<div>\n",
       "<style scoped>\n",
       "    .dataframe tbody tr th:only-of-type {\n",
       "        vertical-align: middle;\n",
       "    }\n",
       "\n",
       "    .dataframe tbody tr th {\n",
       "        vertical-align: top;\n",
       "    }\n",
       "\n",
       "    .dataframe thead th {\n",
       "        text-align: right;\n",
       "    }\n",
       "</style>\n",
       "<table border=\"1\" class=\"dataframe\">\n",
       "  <thead>\n",
       "    <tr style=\"text-align: right;\">\n",
       "      <th></th>\n",
       "      <th>Code</th>\n",
       "      <th>Freq</th>\n",
       "    </tr>\n",
       "  </thead>\n",
       "  <tbody>\n",
       "    <tr>\n",
       "      <th>0</th>\n",
       "      <td>L</td>\n",
       "      <td>10305566</td>\n",
       "    </tr>\n",
       "    <tr>\n",
       "      <th>1</th>\n",
       "      <td>A</td>\n",
       "      <td>9796485</td>\n",
       "    </tr>\n",
       "    <tr>\n",
       "      <th>2</th>\n",
       "      <td>G</td>\n",
       "      <td>7315191</td>\n",
       "    </tr>\n",
       "    <tr>\n",
       "      <th>3</th>\n",
       "      <td>V</td>\n",
       "      <td>6659944</td>\n",
       "    </tr>\n",
       "    <tr>\n",
       "      <th>4</th>\n",
       "      <td>E</td>\n",
       "      <td>5978780</td>\n",
       "    </tr>\n",
       "    <tr>\n",
       "      <th>5</th>\n",
       "      <td>R</td>\n",
       "      <td>5927049</td>\n",
       "    </tr>\n",
       "    <tr>\n",
       "      <th>6</th>\n",
       "      <td>D</td>\n",
       "      <td>5447698</td>\n",
       "    </tr>\n",
       "    <tr>\n",
       "      <th>7</th>\n",
       "      <td>S</td>\n",
       "      <td>5176983</td>\n",
       "    </tr>\n",
       "    <tr>\n",
       "      <th>8</th>\n",
       "      <td>I</td>\n",
       "      <td>5127870</td>\n",
       "    </tr>\n",
       "    <tr>\n",
       "      <th>9</th>\n",
       "      <td>T</td>\n",
       "      <td>4790625</td>\n",
       "    </tr>\n",
       "    <tr>\n",
       "      <th>10</th>\n",
       "      <td>P</td>\n",
       "      <td>4590688</td>\n",
       "    </tr>\n",
       "    <tr>\n",
       "      <th>11</th>\n",
       "      <td>Q</td>\n",
       "      <td>4295253</td>\n",
       "    </tr>\n",
       "    <tr>\n",
       "      <th>12</th>\n",
       "      <td>K</td>\n",
       "      <td>3870179</td>\n",
       "    </tr>\n",
       "    <tr>\n",
       "      <th>13</th>\n",
       "      <td>F</td>\n",
       "      <td>3465332</td>\n",
       "    </tr>\n",
       "    <tr>\n",
       "      <th>14</th>\n",
       "      <td>N</td>\n",
       "      <td>3422029</td>\n",
       "    </tr>\n",
       "    <tr>\n",
       "      <th>15</th>\n",
       "      <td>Y</td>\n",
       "      <td>2579934</td>\n",
       "    </tr>\n",
       "    <tr>\n",
       "      <th>16</th>\n",
       "      <td>M</td>\n",
       "      <td>2406994</td>\n",
       "    </tr>\n",
       "    <tr>\n",
       "      <th>17</th>\n",
       "      <td>H</td>\n",
       "      <td>2401894</td>\n",
       "    </tr>\n",
       "    <tr>\n",
       "      <th>18</th>\n",
       "      <td>W</td>\n",
       "      <td>1362744</td>\n",
       "    </tr>\n",
       "    <tr>\n",
       "      <th>19</th>\n",
       "      <td>C</td>\n",
       "      <td>1113107</td>\n",
       "    </tr>\n",
       "    <tr>\n",
       "      <th>20</th>\n",
       "      <td>X</td>\n",
       "      <td>1717</td>\n",
       "    </tr>\n",
       "    <tr>\n",
       "      <th>21</th>\n",
       "      <td>U</td>\n",
       "      <td>2</td>\n",
       "    </tr>\n",
       "  </tbody>\n",
       "</table>\n",
       "</div>"
      ],
      "text/plain": [
       "   Code      Freq\n",
       "0     L  10305566\n",
       "1     A   9796485\n",
       "2     G   7315191\n",
       "3     V   6659944\n",
       "4     E   5978780\n",
       "5     R   5927049\n",
       "6     D   5447698\n",
       "7     S   5176983\n",
       "8     I   5127870\n",
       "9     T   4790625\n",
       "10    P   4590688\n",
       "11    Q   4295253\n",
       "12    K   3870179\n",
       "13    F   3465332\n",
       "14    N   3422029\n",
       "15    Y   2579934\n",
       "16    M   2406994\n",
       "17    H   2401894\n",
       "18    W   1362744\n",
       "19    C   1113107\n",
       "20    X      1717\n",
       "21    U         2"
      ]
     },
     "execution_count": 16,
     "metadata": {},
     "output_type": "execute_result"
    }
   ],
   "source": [
    "test_code_freq = get_code_freq(test['SEQUENCE'], 'Test')\n",
    "test_code_freq"
   ]
  },
  {
   "cell_type": "code",
   "execution_count": 17,
   "metadata": {
    "execution": {
     "iopub.execute_input": "2021-01-01T15:46:19.569339Z",
     "iopub.status.busy": "2021-01-01T15:46:19.568609Z",
     "iopub.status.idle": "2021-01-01T15:46:20.238643Z",
     "shell.execute_reply": "2021-01-01T15:46:20.238090Z"
    },
    "papermill": {
     "duration": 0.717557,
     "end_time": "2021-01-01T15:46:20.238782",
     "exception": false,
     "start_time": "2021-01-01T15:46:19.521225",
     "status": "completed"
    },
    "tags": []
   },
   "outputs": [
    {
     "data": {
      "image/png": "[encoded data removed]",
      "text/plain": [
       "<Figure size 432x288 with 2 Axes>"
      ]
     },
     "metadata": {
      "needs_background": "light"
     },
     "output_type": "display_data"
    }
   ],
   "source": [
    "plt.subplot(1, 2, 1)\n",
    "plot_code_freq(train_code_freq, 'Train')\n",
    "plt.subplot(1, 2, 2)\n",
    "plot_code_freq(test_code_freq, 'Test')\n",
    "\n",
    "plt.subplots_adjust(right=3.0)\n",
    "plt.show()"
   ]
  },
  {
   "cell_type": "markdown",
   "metadata": {
    "papermill": {
     "duration": 0.037662,
     "end_time": "2021-01-01T15:46:20.317490",
     "exception": false,
     "start_time": "2021-01-01T15:46:20.279828",
     "status": "completed"
    },
    "tags": []
   },
   "source": [
    "* amino acids  (X, U, B, Z)  are present in very less quantity\n",
    "* amino acids  (B, Z) are presented only in the training set "
   ]
  },
  {
   "cell_type": "code",
   "execution_count": 18,
   "metadata": {
    "execution": {
     "iopub.execute_input": "2021-01-01T15:46:20.421796Z",
     "iopub.status.busy": "2021-01-01T15:46:20.420977Z",
     "iopub.status.idle": "2021-01-01T15:46:20.864141Z",
     "shell.execute_reply": "2021-01-01T15:46:20.864637Z"
    },
    "papermill": {
     "duration": 0.510451,
     "end_time": "2021-01-01T15:46:20.864815",
     "exception": false,
     "start_time": "2021-01-01T15:46:20.354364",
     "status": "completed"
    },
    "tags": []
   },
   "outputs": [
    {
     "data": {
      "image/png": "[encoded data removed]",
      "text/plain": [
       "<Figure size 576x432 with 1 Axes>"
      ]
     },
     "metadata": {
      "needs_background": "light"
     },
     "output_type": "display_data"
    }
   ],
   "source": [
    "fig = plt.figure(figsize=(8,6))\n",
    "train.groupby('LABEL').SEQUENCE.count().plot.bar(ylim=0)\n",
    "plt.show()"
   ]
  },
  {
   "cell_type": "markdown",
   "metadata": {
    "papermill": {
     "duration": 0.037526,
     "end_time": "2021-01-01T15:46:20.940461",
     "exception": false,
     "start_time": "2021-01-01T15:46:20.902935",
     "status": "completed"
    },
    "tags": []
   },
   "source": [
    "* we have unbalanced classes"
   ]
  },
  {
   "cell_type": "code",
   "execution_count": 19,
   "metadata": {
    "execution": {
     "iopub.execute_input": "2021-01-01T15:46:21.020763Z",
     "iopub.status.busy": "2021-01-01T15:46:21.020081Z",
     "iopub.status.idle": "2021-01-01T15:46:21.031436Z",
     "shell.execute_reply": "2021-01-01T15:46:21.030817Z"
    },
    "papermill": {
     "duration": 0.053233,
     "end_time": "2021-01-01T15:46:21.031549",
     "exception": false,
     "start_time": "2021-01-01T15:46:20.978316",
     "status": "completed"
    },
    "tags": []
   },
   "outputs": [
    {
     "name": "stdout",
     "output_type": "stream",
     "text": [
      "{'A': 1, 'C': 2, 'D': 3, 'E': 4, 'F': 5, 'G': 6, 'H': 7, 'I': 8, 'K': 9, 'L': 10, 'M': 11, 'N': 12, 'P': 13, 'Q': 14, 'R': 15, 'S': 16, 'T': 17, 'V': 18, 'W': 19, 'Y': 20}\n",
      "Dict Length: 20\n"
     ]
    }
   ],
   "source": [
    "codes = ['A', 'C', 'D', 'E', 'F', 'G', 'H', 'I', 'K', 'L',\n",
    "         'M', 'N', 'P', 'Q', 'R', 'S', 'T', 'V', 'W', 'Y']#,'B',X','U','Z']\n",
    "\n",
    "def create_dict(codes):\n",
    "  char_dict = {}\n",
    "  for index, val in enumerate(codes):\n",
    "    char_dict[val] = index+1\n",
    "  return char_dict\n",
    "char_dict = create_dict(codes)\n",
    "\n",
    "print(char_dict)\n",
    "print(\"Dict Length:\", len(char_dict))"
   ]
  },
  {
   "cell_type": "markdown",
   "metadata": {
    "papermill": {
     "duration": 0.037823,
     "end_time": "2021-01-01T15:46:21.107816",
     "exception": false,
     "start_time": "2021-01-01T15:46:21.069993",
     "status": "completed"
    },
    "tags": []
   },
   "source": [
    "* We will not consider amino acids that are present in very less quantity"
   ]
  },
  {
   "cell_type": "code",
   "execution_count": 20,
   "metadata": {
    "execution": {
     "iopub.execute_input": "2021-01-01T15:46:21.187526Z",
     "iopub.status.busy": "2021-01-01T15:46:21.186716Z",
     "iopub.status.idle": "2021-01-01T15:46:21.194619Z",
     "shell.execute_reply": "2021-01-01T15:46:21.193931Z"
    },
    "papermill": {
     "duration": 0.04889,
     "end_time": "2021-01-01T15:46:21.194762",
     "exception": false,
     "start_time": "2021-01-01T15:46:21.145872",
     "status": "completed"
    },
    "tags": []
   },
   "outputs": [],
   "source": [
    "def integer_encoding(data):\n",
    "  \"\"\"\n",
    "  - Encodes code sequence to integer values.\n",
    "  - 20 common amino acids are taken into consideration\n",
    "    and rest 4 are categorized as 0.\n",
    "  \"\"\"\n",
    "  \n",
    "  encode_list = []\n",
    "  for row in data.values:\n",
    "    row_encode = []\n",
    "    for code in row:\n",
    "      row_encode.append(char_dict.get(code, 0))\n",
    "    encode_list.append(np.array(row_encode))\n",
    "  \n",
    "  return encode_list"
   ]
  },
  {
   "cell_type": "code",
   "execution_count": 21,
   "metadata": {
    "execution": {
     "iopub.execute_input": "2021-01-01T15:46:21.344598Z",
     "iopub.status.busy": "2021-01-01T15:46:21.339111Z",
     "iopub.status.idle": "2021-01-01T15:46:21.632474Z",
     "shell.execute_reply": "2021-01-01T15:46:21.631710Z"
    },
    "papermill": {
     "duration": 0.394574,
     "end_time": "2021-01-01T15:46:21.632598",
     "exception": false,
     "start_time": "2021-01-01T15:46:21.238024",
     "status": "completed"
    },
    "tags": []
   },
   "outputs": [],
   "source": [
    "#apply label encoding to classes\n",
    "le = LabelEncoder()\n",
    "train.LABEL = le.fit_transform(train['LABEL'])"
   ]
  },
  {
   "cell_type": "code",
   "execution_count": 22,
   "metadata": {
    "execution": {
     "iopub.execute_input": "2021-01-01T15:46:21.723181Z",
     "iopub.status.busy": "2021-01-01T15:46:21.722121Z",
     "iopub.status.idle": "2021-01-01T15:46:22.537738Z",
     "shell.execute_reply": "2021-01-01T15:46:22.537123Z"
    },
    "papermill": {
     "duration": 0.86575,
     "end_time": "2021-01-01T15:46:22.537883",
     "exception": false,
     "start_time": "2021-01-01T15:46:21.672133",
     "status": "completed"
    },
    "tags": []
   },
   "outputs": [],
   "source": [
    "#Split our data into train and validation \n",
    "X_train, X_val, y_train, y_val = train_test_split(train.SEQUENCE,train.LABEL, test_size=0.2, random_state=42,stratify=train['LABEL'])"
   ]
  },
  {
   "cell_type": "code",
   "execution_count": 23,
   "metadata": {
    "execution": {
     "iopub.execute_input": "2021-01-01T15:46:22.630608Z",
     "iopub.status.busy": "2021-01-01T15:46:22.625211Z",
     "iopub.status.idle": "2021-01-01T15:49:32.572430Z",
     "shell.execute_reply": "2021-01-01T15:49:32.571711Z"
    },
    "papermill": {
     "duration": 189.994694,
     "end_time": "2021-01-01T15:49:32.572562",
     "exception": false,
     "start_time": "2021-01-01T15:46:22.577868",
     "status": "completed"
    },
    "tags": []
   },
   "outputs": [],
   "source": [
    "# encode our data\n",
    "X_train = integer_encoding(X_train) \n",
    "X_val = integer_encoding(X_val) \n",
    "test_data = integer_encoding(test.SEQUENCE)"
   ]
  },
  {
   "cell_type": "code",
   "execution_count": 24,
   "metadata": {
    "execution": {
     "iopub.execute_input": "2021-01-01T15:49:32.676922Z",
     "iopub.status.busy": "2021-01-01T15:49:32.671693Z",
     "iopub.status.idle": "2021-01-01T15:49:38.498922Z",
     "shell.execute_reply": "2021-01-01T15:49:38.499431Z"
    },
    "papermill": {
     "duration": 5.886823,
     "end_time": "2021-01-01T15:49:38.499600",
     "exception": false,
     "start_time": "2021-01-01T15:49:32.612777",
     "status": "completed"
    },
    "tags": []
   },
   "outputs": [
    {
     "data": {
      "text/plain": [
       "((653560, 150), (163390, 150), (253146, 150))"
      ]
     },
     "execution_count": 24,
     "metadata": {},
     "output_type": "execute_result"
    }
   ],
   "source": [
    "#we will take just the first 150 amino acid in the sequence\n",
    "max_length = 150\n",
    "train_pad = pad_sequences(X_train, maxlen=max_length, padding='post', truncating='post')\n",
    "val_pad = pad_sequences(X_val, maxlen=max_length, padding='post', truncating='post')\n",
    "test_pad = pad_sequences(test_data, maxlen=max_length, padding='post', truncating='post')\n",
    "\n",
    "train_pad.shape, val_pad.shape, test_pad.shape"
   ]
  },
  {
   "cell_type": "code",
   "execution_count": 25,
   "metadata": {
    "execution": {
     "iopub.execute_input": "2021-01-01T15:49:38.586966Z",
     "iopub.status.busy": "2021-01-01T15:49:38.586288Z",
     "iopub.status.idle": "2021-01-01T15:49:38.638387Z",
     "shell.execute_reply": "2021-01-01T15:49:38.638924Z"
    },
    "papermill": {
     "duration": 0.098169,
     "end_time": "2021-01-01T15:49:38.639069",
     "exception": false,
     "start_time": "2021-01-01T15:49:38.540900",
     "status": "completed"
    },
    "tags": []
   },
   "outputs": [
    {
     "data": {
      "text/plain": [
       "((653560, 20), (163390, 20))"
      ]
     },
     "execution_count": 25,
     "metadata": {},
     "output_type": "execute_result"
    }
   ],
   "source": [
    "# One hot encoding of label\n",
    "y_train = to_categorical(y_train)\n",
    "y_val = to_categorical(y_val)\n",
    "y_train.shape, y_val.shape"
   ]
  },
  {
   "cell_type": "code",
   "execution_count": 26,
   "metadata": {
    "execution": {
     "iopub.execute_input": "2021-01-01T15:49:38.806160Z",
     "iopub.status.busy": "2021-01-01T15:49:38.757996Z",
     "iopub.status.idle": "2021-01-01T15:49:42.809417Z",
     "shell.execute_reply": "2021-01-01T15:49:42.809946Z"
    },
    "papermill": {
     "duration": 4.130643,
     "end_time": "2021-01-01T15:49:42.810107",
     "exception": false,
     "start_time": "2021-01-01T15:49:38.679464",
     "status": "completed"
    },
    "tags": []
   },
   "outputs": [
    {
     "name": "stdout",
     "output_type": "stream",
     "text": [
      "2.2.0\n",
      "REPLICAS:  8\n"
     ]
    }
   ],
   "source": [
    "# Detect hardware, return appropriate distribution strategy\n",
    "print(tf.version.VERSION)\n",
    "tf.get_logger().setLevel(logging.ERROR)\n",
    "try: # detect TPU\n",
    "    tpu = None\n",
    "    tpu = tf.distribute.cluster_resolver.TPUClusterResolver()  # TPU detection\n",
    "    tf.config.experimental_connect_to_cluster(tpu)\n",
    "    tf.tpu.experimental.initialize_tpu_system(tpu)\n",
    "    strategy = tf.distribute.experimental.TPUStrategy(tpu)\n",
    "except ValueError: # detect GPU(s) and enable mixed precision\n",
    "    strategy = tf.distribute.MirroredStrategy() # works on GPU and multi-GPU\n",
    "    policy = tf.keras.mixed_precision.experimental.Policy('mixed_float16')\n",
    "    tf.config.optimizer.set_jit(True) # XLA compilation\n",
    "    tf.keras.mixed_precision.experimental.set_policy(policy)\n",
    "    print('Mixed precision enabled')\n",
    "print(\"REPLICAS: \", strategy.num_replicas_in_sync)"
   ]
  },
  {
   "cell_type": "code",
   "execution_count": 27,
   "metadata": {
    "execution": {
     "iopub.execute_input": "2021-01-01T15:49:42.899247Z",
     "iopub.status.busy": "2021-01-01T15:49:42.898552Z",
     "iopub.status.idle": "2021-01-01T15:49:42.902756Z",
     "shell.execute_reply": "2021-01-01T15:49:42.902102Z"
    },
    "papermill": {
     "duration": 0.050862,
     "end_time": "2021-01-01T15:49:42.902950",
     "exception": false,
     "start_time": "2021-01-01T15:49:42.852088",
     "status": "completed"
    },
    "tags": []
   },
   "outputs": [
    {
     "data": {
      "text/plain": [
       "1024"
      ]
     },
     "execution_count": 27,
     "metadata": {},
     "output_type": "execute_result"
    }
   ],
   "source": [
    "if tpu:\n",
    "    BATCH_SIZE = 128 * strategy.num_replicas_in_sync\n",
    "else:\n",
    "    BATCH_SIZE = 64 * strategy.num_replicas_in_sync\n",
    "BATCH_SIZE"
   ]
  },
  {
   "cell_type": "code",
   "execution_count": 28,
   "metadata": {
    "execution": {
     "iopub.execute_input": "2021-01-01T15:49:43.166949Z",
     "iopub.status.busy": "2021-01-01T15:49:43.166271Z",
     "iopub.status.idle": "2021-01-01T15:49:43.170144Z",
     "shell.execute_reply": "2021-01-01T15:49:43.170650Z"
    },
    "papermill": {
     "duration": 0.225708,
     "end_time": "2021-01-01T15:49:43.170819",
     "exception": false,
     "start_time": "2021-01-01T15:49:42.945111",
     "status": "completed"
    },
    "tags": []
   },
   "outputs": [
    {
     "data": {
      "text/plain": [
       "24550"
      ]
     },
     "execution_count": 28,
     "metadata": {},
     "output_type": "execute_result"
    }
   ],
   "source": [
    "gc.collect()"
   ]
  },
  {
   "cell_type": "code",
   "execution_count": 29,
   "metadata": {
    "execution": {
     "iopub.execute_input": "2021-01-01T15:49:43.257865Z",
     "iopub.status.busy": "2021-01-01T15:49:43.257191Z",
     "iopub.status.idle": "2021-01-01T15:49:45.635638Z",
     "shell.execute_reply": "2021-01-01T15:49:45.636281Z"
    },
    "papermill": {
     "duration": 2.423769,
     "end_time": "2021-01-01T15:49:45.636461",
     "exception": false,
     "start_time": "2021-01-01T15:49:43.212692",
     "status": "completed"
    },
    "tags": []
   },
   "outputs": [
    {
     "name": "stdout",
     "output_type": "stream",
     "text": [
      "Model: \"sequential\"\n",
      "_________________________________________________________________\n",
      "Layer (type)                 Output Shape              Param #   \n",
      "=================================================================\n",
      "embedding (Embedding)        (None, 150, 10)           210       \n",
      "_________________________________________________________________\n",
      "bidirectional (Bidirectional (None, 150, 64)           11008     \n",
      "_________________________________________________________________\n",
      "bidirectional_1 (Bidirection (None, 64)                24832     \n",
      "_________________________________________________________________\n",
      "dense (Dense)                (None, 20)                1300      \n",
      "=================================================================\n",
      "Total params: 37,350\n",
      "Trainable params: 37,350\n",
      "Non-trainable params: 0\n",
      "_________________________________________________________________\n"
     ]
    }
   ],
   "source": [
    "with strategy.scope():\n",
    "    model = tf.keras.Sequential([\n",
    "    tf.keras.layers.Embedding(21, 10, input_length=max_length),\n",
    "    tf.keras.layers.Bidirectional(tf.keras.layers.LSTM(32, dropout=0.1,return_sequences=True)),\n",
    "    tf.keras.layers.Bidirectional(tf.keras.layers.LSTM(32,dropout=0.1)),\n",
    "    tf.keras.layers.Dense(20, activation='softmax')])\n",
    "\n",
    "    model.compile(\n",
    "        loss=tf.keras.losses.CategoricalCrossentropy(),\n",
    "        optimizer=tf.keras.optimizers.Adam(lr=1e-3),\n",
    "        metrics=['accuracy'])\n",
    "\n",
    "model.summary()"
   ]
  },
  {
   "cell_type": "code",
   "execution_count": 30,
   "metadata": {
    "execution": {
     "iopub.execute_input": "2021-01-01T15:49:45.731668Z",
     "iopub.status.busy": "2021-01-01T15:49:45.731011Z",
     "iopub.status.idle": "2021-01-01T15:57:24.683694Z",
     "shell.execute_reply": "2021-01-01T15:57:24.684543Z"
    },
    "papermill": {
     "duration": 458.999662,
     "end_time": "2021-01-01T15:57:24.685056",
     "exception": false,
     "start_time": "2021-01-01T15:49:45.685394",
     "status": "completed"
    },
    "tags": []
   },
   "outputs": [
    {
     "name": "stdout",
     "output_type": "stream",
     "text": [
      "Epoch 1/20\n",
      "639/639 [==============================] - 29s 46ms/step - loss: 2.3379 - accuracy: 0.3123 - val_loss: 2.1420 - val_accuracy: 0.3513\n",
      "Epoch 2/20\n",
      "639/639 [==============================] - 21s 33ms/step - loss: 2.0380 - accuracy: 0.3822 - val_loss: 1.9124 - val_accuracy: 0.4223\n",
      "Epoch 3/20\n",
      "639/639 [==============================] - 22s 34ms/step - loss: 1.9316 - accuracy: 0.4183 - val_loss: 1.7978 - val_accuracy: 0.4669\n",
      "Epoch 4/20\n",
      "639/639 [==============================] - 22s 34ms/step - loss: 1.7864 - accuracy: 0.4689 - val_loss: 1.6819 - val_accuracy: 0.5076\n",
      "Epoch 5/20\n",
      "639/639 [==============================] - 22s 34ms/step - loss: 1.6852 - accuracy: 0.5061 - val_loss: 1.5736 - val_accuracy: 0.5488\n",
      "Epoch 6/20\n",
      "639/639 [==============================] - 22s 34ms/step - loss: 1.5929 - accuracy: 0.5403 - val_loss: 1.4781 - val_accuracy: 0.5825\n",
      "Epoch 7/20\n",
      "639/639 [==============================] - 22s 35ms/step - loss: 1.5068 - accuracy: 0.5700 - val_loss: 1.3805 - val_accuracy: 0.6133\n",
      "Epoch 8/20\n",
      "639/639 [==============================] - 22s 34ms/step - loss: 1.4216 - accuracy: 0.5985 - val_loss: 1.3168 - val_accuracy: 0.6328\n",
      "Epoch 9/20\n",
      "639/639 [==============================] - 22s 34ms/step - loss: 1.3468 - accuracy: 0.6220 - val_loss: 1.2250 - val_accuracy: 0.6600\n",
      "Epoch 10/20\n",
      "639/639 [==============================] - 22s 34ms/step - loss: 1.2779 - accuracy: 0.6423 - val_loss: 1.1634 - val_accuracy: 0.6773\n",
      "Epoch 11/20\n",
      "639/639 [==============================] - 22s 34ms/step - loss: 1.2175 - accuracy: 0.6607 - val_loss: 1.1090 - val_accuracy: 0.6947\n",
      "Epoch 12/20\n",
      "639/639 [==============================] - 22s 34ms/step - loss: 1.1630 - accuracy: 0.6774 - val_loss: 1.0539 - val_accuracy: 0.7105\n",
      "Epoch 13/20\n",
      "639/639 [==============================] - 22s 34ms/step - loss: 1.1207 - accuracy: 0.6905 - val_loss: 1.0210 - val_accuracy: 0.7203\n",
      "Epoch 14/20\n",
      "639/639 [==============================] - 22s 34ms/step - loss: 1.0717 - accuracy: 0.7050 - val_loss: 0.9769 - val_accuracy: 0.7349\n",
      "Epoch 15/20\n",
      "639/639 [==============================] - 22s 34ms/step - loss: 1.0298 - accuracy: 0.7178 - val_loss: 0.9337 - val_accuracy: 0.7457\n",
      "Epoch 16/20\n",
      "639/639 [==============================] - 22s 34ms/step - loss: 0.9955 - accuracy: 0.7273 - val_loss: 0.8987 - val_accuracy: 0.7580\n",
      "Epoch 17/20\n",
      "639/639 [==============================] - 22s 34ms/step - loss: 0.9600 - accuracy: 0.7389 - val_loss: 0.8662 - val_accuracy: 0.7665\n",
      "Epoch 18/20\n",
      "639/639 [==============================] - 22s 34ms/step - loss: 0.9301 - accuracy: 0.7475 - val_loss: 0.8334 - val_accuracy: 0.7754\n",
      "Epoch 19/20\n",
      "639/639 [==============================] - 22s 34ms/step - loss: 0.9020 - accuracy: 0.7556 - val_loss: 0.8129 - val_accuracy: 0.7819\n",
      "Epoch 20/20\n",
      "639/639 [==============================] - 21s 33ms/step - loss: 0.8756 - accuracy: 0.7637 - val_loss: 0.7860 - val_accuracy: 0.7900\n"
     ]
    }
   ],
   "source": [
    "es = EarlyStopping(monitor='val_accuracy',mode='max', patience=3, verbose=1)\n",
    "history = model.fit(train_pad, y_train,epochs=20, batch_size=1024,validation_data=(val_pad,y_val),callbacks=[es])"
   ]
  },
  {
   "cell_type": "code",
   "execution_count": 31,
   "metadata": {
    "execution": {
     "iopub.execute_input": "2021-01-01T15:57:29.222926Z",
     "iopub.status.busy": "2021-01-01T15:57:29.222226Z",
     "iopub.status.idle": "2021-01-01T15:57:29.229789Z",
     "shell.execute_reply": "2021-01-01T15:57:29.230368Z"
    },
    "papermill": {
     "duration": 2.230558,
     "end_time": "2021-01-01T15:57:29.230532",
     "exception": false,
     "start_time": "2021-01-01T15:57:26.999974",
     "status": "completed"
    },
    "tags": []
   },
   "outputs": [],
   "source": [
    "def plot_hist(hist):\n",
    "    plt.plot(hist.history[\"accuracy\"])\n",
    "    plt.plot(hist.history[\"val_accuracy\"])\n",
    "    plt.title(\"model accuracy\")\n",
    "    plt.ylabel(\"accuracy\")\n",
    "    plt.xlabel(\"epoch\")\n",
    "    plt.legend([\"train\", \"validation\"], loc=\"upper left\")\n",
    "    plt.savefig('loss.png')\n",
    "    plt.show()"
   ]
  },
  {
   "cell_type": "code",
   "execution_count": 32,
   "metadata": {
    "execution": {
     "iopub.execute_input": "2021-01-01T15:57:33.685647Z",
     "iopub.status.busy": "2021-01-01T15:57:33.684997Z",
     "iopub.status.idle": "2021-01-01T15:57:33.963932Z",
     "shell.execute_reply": "2021-01-01T15:57:33.964661Z"
    },
    "papermill": {
     "duration": 2.494665,
     "end_time": "2021-01-01T15:57:33.964847",
     "exception": false,
     "start_time": "2021-01-01T15:57:31.470182",
     "status": "completed"
    },
    "tags": []
   },
   "outputs": [
    {
     "data": {
      "image/png": "[encoded data removed]",
      "text/plain": [
       "<Figure size 432x288 with 1 Axes>"
      ]
     },
     "metadata": {
      "needs_background": "light"
     },
     "output_type": "display_data"
    }
   ],
   "source": [
    "plot_hist(history)"
   ]
  },
  {
   "cell_type": "markdown",
   "metadata": {
    "papermill": {
     "duration": 2.24182,
     "end_time": "2021-01-01T15:57:38.492936",
     "exception": false,
     "start_time": "2021-01-01T15:57:36.251116",
     "status": "completed"
    },
    "tags": []
   },
   "source": [
    "# Evaluating Model on Validation Set"
   ]
  },
  {
   "cell_type": "code",
   "execution_count": 33,
   "metadata": {
    "execution": {
     "iopub.execute_input": "2021-01-01T15:57:42.976795Z",
     "iopub.status.busy": "2021-01-01T15:57:42.975948Z",
     "iopub.status.idle": "2021-01-01T15:57:42.978717Z",
     "shell.execute_reply": "2021-01-01T15:57:42.978073Z"
    },
    "papermill": {
     "duration": 2.241904,
     "end_time": "2021-01-01T15:57:42.978852",
     "exception": false,
     "start_time": "2021-01-01T15:57:40.736948",
     "status": "completed"
    },
    "tags": []
   },
   "outputs": [],
   "source": [
    "from sklearn.metrics import confusion_matrix, classification_report"
   ]
  },
  {
   "cell_type": "code",
   "execution_count": 35,
   "metadata": {
    "execution": {
     "iopub.execute_input": "2021-01-01T15:57:52.627562Z",
     "iopub.status.busy": "2021-01-01T15:57:52.626407Z",
     "iopub.status.idle": "2021-01-01T15:58:47.878377Z",
     "shell.execute_reply": "2021-01-01T15:58:47.879271Z"
    },
    "papermill": {
     "duration": 57.703693,
     "end_time": "2021-01-01T15:58:47.879503",
     "exception": false,
     "start_time": "2021-01-01T15:57:50.175810",
     "status": "completed"
    },
    "tags": []
   },
   "outputs": [
    {
     "name": "stdout",
     "output_type": "stream",
     "text": [
      "5106/5106 [==============================] - 42s 8ms/step\n",
      "              precision    recall  f1-score   support\n",
      "\n",
      "      class0       0.82      0.61      0.70      2126\n",
      "      class1       0.79      0.68      0.73      6833\n",
      "     class10       0.79      0.77      0.78      6747\n",
      "     class11       0.72      0.82      0.77     11839\n",
      "     class12       0.72      0.68      0.70      7259\n",
      "     class13       0.81      0.77      0.79      5746\n",
      "     class14       0.65      0.75      0.69      3404\n",
      "     class15       0.69      0.62      0.65      2503\n",
      "     class16       0.78      0.72      0.75      5355\n",
      "     class17       0.82      0.72      0.77      2842\n",
      "     class18       0.85      0.70      0.77      2457\n",
      "     class19       0.84      0.91      0.87     48283\n",
      "      class2       0.74      0.70      0.72      9933\n",
      "      class3       0.72      0.74      0.73      6170\n",
      "      class4       0.78      0.68      0.73      6184\n",
      "      class5       0.82      0.84      0.83      7219\n",
      "      class6       0.72      0.73      0.73      8971\n",
      "      class7       0.87      0.89      0.88      3808\n",
      "      class8       0.79      0.77      0.78      8744\n",
      "      class9       0.81      0.70      0.75      6967\n",
      "\n",
      "    accuracy                           0.79    163390\n",
      "   macro avg       0.78      0.74      0.76    163390\n",
      "weighted avg       0.79      0.79      0.79    163390\n",
      "\n"
     ]
    }
   ],
   "source": [
    "pred_valid_y = model.predict(val_pad,  verbose = True)\n",
    "pred_valid_y_labels = np.argmax(pred_valid_y, axis=-1)\n",
    "pred_valid_y_labels = le.inverse_transform(pred_valid_y_labels)[:163390]\n",
    "valid_labels=np.argmax(y_val, axis=-1)\n",
    "valid_labels=le.inverse_transform(valid_labels)\n",
    "print(classification_report(valid_labels, pred_valid_y_labels ))"
   ]
  },
  {
   "cell_type": "code",
   "execution_count": 36,
   "metadata": {
    "execution": {
     "iopub.execute_input": "2021-01-01T15:58:53.220421Z",
     "iopub.status.busy": "2021-01-01T15:58:53.213419Z",
     "iopub.status.idle": "2021-01-01T15:58:54.324391Z",
     "shell.execute_reply": "2021-01-01T15:58:54.324902Z"
    },
    "papermill": {
     "duration": 3.868756,
     "end_time": "2021-01-01T15:58:54.325059",
     "exception": false,
     "start_time": "2021-01-01T15:58:50.456303",
     "status": "completed"
    },
    "tags": []
   },
   "outputs": [
    {
     "name": "stdout",
     "output_type": "stream",
     "text": [
      "[[ 1299    33   109    77    52    10    16    12    13    12     4   210\n",
      "     36    38    14    25    81     0    38    47]\n",
      " [   20  4676    75   233   104    66    82    19    36    59    12   513\n",
      "    183   155    91    56   202    35    97   119]\n",
      " [   42    57  5213   148    53    23    42    24    27    31    39   439\n",
      "     61    46    88    27   196     9   110    72]\n",
      " [   14    76   101  9698   147    74   106    47    27    34    34   698\n",
      "    186   105    49   127   119    21    81    95]\n",
      " [   12    64    44   300  4939    75   125    38    70    15     9   788\n",
      "    206    92    54   131    84    89    82    42]\n",
      " [    4    52    43   113    82  4408    56     2    18    15     5   466\n",
      "     97    50    34    20   130    42    71    38]\n",
      " [   12    25    35    93    43    32  2537    27    16     6     5   252\n",
      "    111    45    28    28    50     6    43    10]\n",
      " [    8    28    48   135    38    11    40  1557    46     9    27   147\n",
      "    115    47    46    47    57    11    54    32]\n",
      " [   19    35    39    83    86    28    24    46  3855     9     5   470\n",
      "    111   151    47    84   132    41    55    35]\n",
      " [    4    55    30   112    29    32    11    39     6  2055    12   135\n",
      "     52    16    56    23   109     3    42    21]\n",
      " [    4    11   133   149    18     9     7    24    11    17  1726   125\n",
      "     32    18    22    18    36     5    61    31]\n",
      " [   46   178   227   720   424   220   221    71   269    45    25 43748\n",
      "    469   323   142   200   363   118   299   175]\n",
      " [   20   114    59   360   223    85   223    82   102    29     6   850\n",
      "   6963   165   100   134   159     7   191    61]\n",
      " [    7    48    18   170   116    51    67    31   114    11     8   470\n",
      "    111  4584    57    48   116    47    57    39]\n",
      " [   10   110    58   191   112    59    68    40    69    46     8   393\n",
      "    166    76  4188   133   209     9   158    81]\n",
      " [   11    50    28   195    61    15    56    28    21    14    12   254\n",
      "     98    45    48  6092    85    10    61    35]\n",
      " [   17   121   140   183    93    80    78    70   113    47    20   675\n",
      "    169   154   128    59  6555    10   138   121]\n",
      " [    2     9    14    38    29    24    13    20    35     3     6    83\n",
      "     24    39    25    24    19  3372    18    11]\n",
      " [   19    33   141   174    91    63   109    33    45    20    41   601\n",
      "    161   116    75    75   155    20  6719    53]\n",
      " [   18   131    76   230    76    58    37    54    50    23    35   543\n",
      "    114   130    68    90   228    22    89  4895]]\n"
     ]
    }
   ],
   "source": [
    "print(confusion_matrix(valid_labels, pred_valid_y_labels ))"
   ]
  }
 ],
 "metadata": {
  "kernelspec": {
   "display_name": "Python 3",
   "language": "python",
   "name": "python3"
  },
  "language_info": {
   "codemirror_mode": {
    "name": "ipython",
    "version": 3
   },
   "file_extension": ".py",
   "mimetype": "text/x-python",
   "name": "python",
   "nbconvert_exporter": "python",
   "pygments_lexer": "ipython3",
   "version": "3.7.6"
  },
  "papermill": {
   "duration": 881.281139,
   "end_time": "2021-01-01T15:59:02.128931",
   "environment_variables": {},
   "exception": null,
   "input_path": "__notebook__.ipynb",
   "output_path": "__notebook__.ipynb",
   "parameters": {},
   "start_time": "2021-01-01T15:44:20.847792",
   "version": "2.1.0"
  }
 },
 "nbformat": 4,
 "nbformat_minor": 4
}